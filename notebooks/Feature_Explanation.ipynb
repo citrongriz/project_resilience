{
 "cells": [
  {
   "cell_type": "markdown",
   "metadata": {},
   "source": [
    "# Aim : Have the signification of each feature in the dataframe"
   ]
  },
  {
   "cell_type": "markdown",
   "metadata": {},
   "source": [
    "### Source of the feature : notebook city_2020"
   ]
  },
  {
   "cell_type": "code",
   "execution_count": 9,
   "metadata": {},
   "outputs": [],
   "source": [
    "import pandas as pd\n",
    "import numpy as np\n",
    "import seaborn as sns\n",
    "pd.set_option('display.max_columns', None)\n",
    "from sklearn.preprocessing import MinMaxScaler\n",
    "import seaborn as sns\n",
    "pd.options.display.max_colwidth = 500"
   ]
  },
  {
   "cell_type": "markdown",
   "metadata": {},
   "source": [
    "### List of features\n",
    "\n",
    "    Hazards.Exposure.Level\n",
    "    Adaptation.Challenges.Index = Standardization of Adaptation.Challenges.Level\n",
    "    Adaptation.Plan\n",
    "    City.Wide.Emissions.Inventory\n",
    "    GHG.Emissions.Evolution\n",
    "    GHG.Emissions.Consumption\n",
    "    GHG.Emissions.External.Verification\n",
    "    GHG.Emissions.Reductions.Targets   \n",
    "    Emissions.Reductions.Mitigation.Planning\n",
    "    Potable.Water.Supply.Vulnerability\n",
    "    Sustainability.Targets.Master.Planning\n",
    "    Risk.Assessment.Actions\n",
    "    Risk.Health.System\n",
    "    Opportunities.Collabolaration   \n",
    "    Renewable.Energy.Target\n",
    "    Energy.Efficiency.Target\n",
    "    Water.Resource.Management.strategy\n",
    "    Low.Zero.Emission.Zone\n",
    "    Electricity.Source.Renewable\n",
    "    Food.Consumption.Policies"
   ]
  },
  {
   "cell_type": "code",
   "execution_count": 3,
   "metadata": {},
   "outputs": [],
   "source": [
    "Cities_2020 = pd.read_csv('/home/gaetan/code/maillotg/project_resilience/raw_data/Cities/Cities_Responses/2020_Full_Cities_Dataset.csv')"
   ]
  },
  {
   "cell_type": "code",
   "execution_count": 16,
   "metadata": {},
   "outputs": [
    {
     "data": {
      "text/html": [
       "<div>\n",
       "<style scoped>\n",
       "    .dataframe tbody tr th:only-of-type {\n",
       "        vertical-align: middle;\n",
       "    }\n",
       "\n",
       "    .dataframe tbody tr th {\n",
       "        vertical-align: top;\n",
       "    }\n",
       "\n",
       "    .dataframe thead th {\n",
       "        text-align: right;\n",
       "    }\n",
       "</style>\n",
       "<table border=\"1\" class=\"dataframe\">\n",
       "  <thead>\n",
       "    <tr style=\"text-align: right;\">\n",
       "      <th></th>\n",
       "      <th>Questionnaire</th>\n",
       "      <th>Year Reported to CDP</th>\n",
       "      <th>Account Number</th>\n",
       "      <th>Organization</th>\n",
       "      <th>Country</th>\n",
       "      <th>CDP Region</th>\n",
       "      <th>Parent Section</th>\n",
       "      <th>Section</th>\n",
       "      <th>Question Number</th>\n",
       "      <th>Question Name</th>\n",
       "      <th>Column Number</th>\n",
       "      <th>Column Name</th>\n",
       "      <th>Row Number</th>\n",
       "      <th>Row Name</th>\n",
       "      <th>Response Answer</th>\n",
       "      <th>Comments</th>\n",
       "      <th>File Name</th>\n",
       "      <th>Last update</th>\n",
       "    </tr>\n",
       "  </thead>\n",
       "  <tbody>\n",
       "    <tr>\n",
       "      <th>616</th>\n",
       "      <td>Cities 2020</td>\n",
       "      <td>2020</td>\n",
       "      <td>36286</td>\n",
       "      <td>Comune di Ferrara</td>\n",
       "      <td>Italy</td>\n",
       "      <td>Europe</td>\n",
       "      <td>Climate Hazards and Vulnerability</td>\n",
       "      <td>Climate Risk and Vulnerability Assessment</td>\n",
       "      <td>2.0</td>\n",
       "      <td>Has a climate change risk and vulnerability assessment been undertaken for your city?</td>\n",
       "      <td>0</td>\n",
       "      <td>NaN</td>\n",
       "      <td>0</td>\n",
       "      <td>NaN</td>\n",
       "      <td>Yes</td>\n",
       "      <td>NaN</td>\n",
       "      <td>NaN</td>\n",
       "      <td>09/07/2020 09:45:36 AM</td>\n",
       "    </tr>\n",
       "  </tbody>\n",
       "</table>\n",
       "</div>"
      ],
      "text/plain": [
       "    Questionnaire  Year Reported to CDP  Account Number       Organization  \\\n",
       "616   Cities 2020                  2020           36286  Comune di Ferrara   \n",
       "\n",
       "    Country CDP Region                     Parent Section  \\\n",
       "616   Italy     Europe  Climate Hazards and Vulnerability   \n",
       "\n",
       "                                       Section Question Number  \\\n",
       "616  Climate Risk and Vulnerability Assessment             2.0   \n",
       "\n",
       "                                                                             Question Name  \\\n",
       "616  Has a climate change risk and vulnerability assessment been undertaken for your city?   \n",
       "\n",
       "     Column Number Column Name  Row Number Row Name Response Answer Comments  \\\n",
       "616              0         NaN           0      NaN             Yes      NaN   \n",
       "\n",
       "    File Name             Last update  \n",
       "616       NaN  09/07/2020 09:45:36 AM  "
      ]
     },
     "execution_count": 16,
     "metadata": {},
     "output_type": "execute_result"
    }
   ],
   "source": [
    "Cities_2020[Cities_2020['Question Number'] == '2.0'].head(1)"
   ]
  },
  {
   "cell_type": "markdown",
   "metadata": {},
   "source": [
    "### Governance & Data Management\n",
    "\n",
    "**Sustainability.Targets.Master.Planning** : Answer to question 1.0\n",
    "\n",
    "Does your city incorporate sustainability goals and targets (e.g. GHG reductions) into the master planning for the city?"
   ]
  },
  {
   "cell_type": "markdown",
   "metadata": {},
   "source": [
    "### Climate Hazards\n",
    "\n",
    "**NB.Hazards.Type** : Answer to question 2.1 in the dataframe (2.2a in the CDG questionnaire, page 9)\n",
    "\n",
    "Please list the most significant climate hazards faced by your city and indicate the probability and consequence of these hazards, as well as the expected future change in frequency and intensity. Please also select the most relevant assets or services that are affected by the climate hazard and provide a description of the impact.\n",
    "\n",
    "**Hazards.Exposure.Level** = Standardization of score the Exposure_city\n",
    "\n",
    "Exposure_city= ∑nb hazardsx = iMagnitudei ∗ Probabilityi"
   ]
  },
  {
   "cell_type": "markdown",
   "metadata": {},
   "source": [
    "**Risk.Assessment.Actions** : \n",
    "\n",
    "Has a climate change risk and vulnerability assessment been undertaken for your city?\n",
    "\n",
    "**Risk.Health.System** : Answer to question 2.3\n",
    "\n",
    "Is your city facing risks to public health or health systems associated with climate change?"
   ]
  },
  {
   "cell_type": "markdown",
   "metadata": {},
   "source": [
    "---"
   ]
  },
  {
   "cell_type": "markdown",
   "metadata": {},
   "source": [
    "### Adaptation\n",
    "\n",
    "\n",
    "**Adaptation.Challenges.Level** : Answer to question 2.2 in the dataframe (2.4 in the CDG questionnaire, page 11)\n",
    "Sum of all the values for the Adaptation.Challenges... features\n",
    "\n",
    "Adaptation challenges: Cities are asked to identify and describe factors that most greatly affect their ability to adapt to climate change. A list of factors is provided including various elements: Access to basic services, Access to healthcare, Access to education, Public health… We grouped these factors into 8 main sectors:\n",
    "    \n",
    "    Economic: Access to basic service, Cost of living, Poverty, Unemployment, Economic health, economic diversity, and Budgetary capacity.\n",
    "    Health :Access to healthcare and Public health\n",
    "    Education : Access to education\n",
    "    Habitat : Housing\n",
    "    Infrastructure\" : Rapid urbanization, Infrastructure conditions / maintenance, and Infrastructure capacity\n",
    "    Social : Inequality and Migration\n",
    "    Environment: Resource availability, Environmental conditions\n",
    "\n",
    "**Adaptation.Plan** : Answer to question 3.2 in the dataframe (3.1 in the CDG questionnaire, page 13)\n",
    "\n",
    "Please identify and describe the factors that most greatly affect your city’s ability to adapt to climate change and indicate how those factors either support or challenge this ability."
   ]
  },
  {
   "cell_type": "markdown",
   "metadata": {},
   "source": [
    "### Emissions\n",
    "\n",
    "**City.Wide.Emissions.Inventory** : Answer to the question 4.0\n",
    "\n",
    "Does your city have a city-wide emissions inventory to report? (Categorial answer: Yes, No ...)\n",
    "\n",
    "**GHG.Emissions.Evolution** : Answer to question 4.8 in the dataframe (7.11 in the CDG questionnaire, page 28)\n",
    "\n",
    "Please indicate if your city-wide emissions have increased, decreased, or stayed the same since your last emissions inventory, and describe why. (Categorial answer : Increased, Decreased, ...)\n",
    "\n",
    "**GHG.Emissions.Reductions.Targets** : Answer to question 5.0 in the dataframe\n",
    "\n",
    "Do you have a GHG emissions reduction target(s) in place at the city-wide level? (Categorial answer : Base year emissions (absolute) target, Fixed level target ...)\n",
    "\n",
    "**GHG.Emissions.Consumption** : Answer to question 4.9 in the dataframe (Yes to 4.0)\n",
    "\n",
    "Does your city have a consumption-based inventory to measure emissions from consumption of goods and services by your residents? ????\n",
    "\n",
    "**GHG.Emissions.External.Verification** : Answer to question 4.12 in the dataframe (Yes to 4.0)\n",
    "\n",
    "Has the city-wide GHG emissions data you are currently reporting been externally verified or audited in part or in whole?\n",
    "\n",
    "**Emissions.Reductions.Mitigation.Planning** : Answer to question 5.5\n",
    "\n",
    "Does your city have a climate change mitigation or energy access plan for reducing city-wide GHG emissions?\n"
   ]
  },
  {
   "cell_type": "markdown",
   "metadata": {},
   "source": [
    "---\n",
    "\n",
    "### Emissions Reduction\n",
    "\n",
    "**GHG.Emissions.Reductions.Targets** : Answer to question 5.5 \n",
    "\n",
    "Does your city have a climate change mitigation or energy access plan for reducing city-wide GHG emissions? (categorial answer : "
   ]
  },
  {
   "cell_type": "markdown",
   "metadata": {},
   "source": [
    "\n",
    "**Adaptation.Challenges.Level** : Answer to question 2.2 in the dataframe (2.4 in the CDG questionnaire, page 11)\n",
    "Sum of all the values for the Adaptation.Challenges... features\n",
    "\n",
    "Adaptation challenges: Cities are asked to identify and describe factors that most greatly affect their ability to adapt to climate change. A list of factors is provided including various elements: Access to basic services, Access to healthcare, Access to education, Public health… We grouped these factors into 8 main sectors:\n",
    "    \n",
    "    Economic: Access to basic service, Cost of living, Poverty, Unemployment, Economic health, economic diversity, and Budgetary capacity.\n",
    "    Health :Access to healthcare and Public health\n",
    "    Education : Access to education\n",
    "    Habitat : Housing\n",
    "    Infrastructure\" : Rapid urbanization, Infrastructure conditions / maintenance, and Infrastructure capacity\n",
    "    Social : Inequality and Migration\n",
    "    Environment: Resource availability, Environmental conditions\n",
    "\n",
    "**Adaptation.Plan** : Answer to question 3.2 in the dataframe (3.1 in the CDG questionnaire, page 13)\n",
    "\n",
    "Please identify and describe the factors that most greatly affect your city’s ability to adapt to climate change and indicate how those factors either support or challenge this abilit"
   ]
  },
  {
   "cell_type": "markdown",
   "metadata": {},
   "source": [
    "**Opportunities.Collabolaration** : Answer to question 6.2\n",
    "\n",
    "Does your city collaborate in partnership with businesses in your city on sustainability projects?\n",
    "\n"
   ]
  },
  {
   "cell_type": "markdown",
   "metadata": {},
   "source": [
    "Energy\n",
    "---\n",
    "\n",
    "**Renewable.Energy.Target** : Answer to question 8.0\n",
    "\n",
    "Does your city have a renewable energy or electricity target?\n",
    "\n",
    "**Electricity.Source.Renewable** : Sum of the % comming from Electricity.Source.Hydro + Electricity.Source.Wind + Electricity.Source.Solar + Electricity.Source.Geothermal\n",
    "\n",
    "Answer to question : \n",
    "\n",
    "\n",
    "**Energy.Efficnecy.Target** : Answer to question 8.5\n",
    "\n",
    "Does your city have a target to increase energy efficiency?"
   ]
  },
  {
   "cell_type": "markdown",
   "metadata": {},
   "source": [
    "---"
   ]
  },
  {
   "cell_type": "markdown",
   "metadata": {},
   "source": [
    "**Low.Zero.Emission.Zone** : Answer to question 10.7\n",
    "\n",
    "Do you have a low or zero-emission zone in your city? (i.e. an area that disincentivises fossil fuel vehicles through a charge, a ban or access restriction)"
   ]
  },
  {
   "cell_type": "markdown",
   "metadata": {},
   "source": [
    "---"
   ]
  },
  {
   "cell_type": "markdown",
   "metadata": {},
   "source": [
    "### Food\n",
    "\n",
    "**Food.Consumption.Policies** : Answer to question 12.3\n",
    "\n",
    "Does your city have any policies relating to food consumption within your city? If so, please describe the expected outcome of the policy"
   ]
  },
  {
   "cell_type": "markdown",
   "metadata": {},
   "source": [
    "---"
   ]
  },
  {
   "cell_type": "markdown",
   "metadata": {},
   "source": [
    "### Water security\n",
    "\n",
    "**Water.Resource.Management.strategy** : Answer to question 14.4\n",
    "\n",
    "Does your city have a publicly available Water Resource Management strategy?"
   ]
  },
  {
   "cell_type": "code",
   "execution_count": null,
   "metadata": {},
   "outputs": [],
   "source": []
  }
 ],
 "metadata": {
  "kernelspec": {
   "display_name": "Python 3",
   "language": "python",
   "name": "python3"
  },
  "language_info": {
   "codemirror_mode": {
    "name": "ipython",
    "version": 3
   },
   "file_extension": ".py",
   "mimetype": "text/x-python",
   "name": "python",
   "nbconvert_exporter": "python",
   "pygments_lexer": "ipython3",
   "version": "3.8.5"
  }
 },
 "nbformat": 4,
 "nbformat_minor": 4
}
